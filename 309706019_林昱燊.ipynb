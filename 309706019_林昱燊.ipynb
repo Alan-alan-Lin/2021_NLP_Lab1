{
  "nbformat": 4,
  "nbformat_minor": 0,
  "metadata": {
    "colab": {
      "name": "309706019_林昱燊.ipynb",
      "provenance": [],
      "authorship_tag": "ABX9TyM1Ahe2P9kwYIWEOZWapQpZ",
      "include_colab_link": true
    },
    "kernelspec": {
      "name": "python3",
      "display_name": "Python 3"
    },
    "language_info": {
      "name": "python"
    }
  },
  "cells": [
    {
      "cell_type": "markdown",
      "metadata": {
        "id": "view-in-github",
        "colab_type": "text"
      },
      "source": [
        "<a href=\"https://colab.research.google.com/github/Alan-alan-Lin/2021_NLP_Lab1/blob/main/309706019_%E6%9E%97%E6%98%B1%E7%87%8A.ipynb\" target=\"_parent\"><img src=\"https://colab.research.google.com/assets/colab-badge.svg\" alt=\"Open In Colab\"/></a>"
      ]
    },
    {
      "cell_type": "code",
      "metadata": {
        "colab": {
          "base_uri": "https://localhost:8080/"
        },
        "id": "8XFsFFyfAXMG",
        "outputId": "dbe7b0b9-431a-42e9-e3cd-3e6f4b744b89"
      },
      "source": [
        "# For debugging\n",
        "import pdb\n",
        "# For checking progress\n",
        "from tqdm import tqdm\n",
        "# For loading data\n",
        "import pandas as pd\n",
        "# For tokenizaton\n",
        "import nltk\n",
        "from nltk import word_tokenize, sent_tokenize\n",
        "nltk.download('punkt')\n",
        "# For building n-gram model\n",
        "from collections import Counter, namedtuple\n",
        "import numpy as np\n",
        "# For pos tagging\n",
        "nltk.download('averaged_perceptron_tagger')"
      ],
      "execution_count": null,
      "outputs": [
        {
          "output_type": "stream",
          "text": [
            "[nltk_data] Downloading package punkt to /root/nltk_data...\n",
            "[nltk_data]   Package punkt is already up-to-date!\n",
            "[nltk_data] Downloading package averaged_perceptron_tagger to\n",
            "[nltk_data]     /root/nltk_data...\n",
            "[nltk_data]   Package averaged_perceptron_tagger is already up-to-\n",
            "[nltk_data]       date!\n"
          ],
          "name": "stdout"
        },
        {
          "output_type": "execute_result",
          "data": {
            "text/plain": [
              "True"
            ]
          },
          "metadata": {
            "tags": []
          },
          "execution_count": 21
        }
      ]
    },
    {
      "cell_type": "markdown",
      "metadata": {
        "id": "j52G4GXxI6Zt"
      },
      "source": [
        "**Part 1. Data Preprocessing**\n",
        "\n",
        "show the top-10 common words and their counts before/after preprocessing\n",
        "\n",
        "**Functions and Classes**\n",
        "\n",
        "Remove the punctuations\n",
        "\n",
        "Lower the cases"
      ]
    },
    {
      "cell_type": "code",
      "metadata": {
        "id": "kuK0NVL-I2Lx"
      },
      "source": [
        "def get_corpus():\n",
        "  \"\"\" Reads and formats the corpus.\n",
        "\n",
        "  Returns:\n",
        "    corpus (list[str]):\n",
        "      A list of sentences in the corpus.\n",
        "  \"\"\"\n",
        "  df = pd.read_csv('https://raw.githubusercontent.com/yunzhusong/NLP109/main/lab1_data.csv')\n",
        "  corpus = df.content.to_list()\n",
        "  return corpus"
      ],
      "execution_count": null,
      "outputs": []
    },
    {
      "cell_type": "code",
      "metadata": {
        "id": "m8Vd5f8RJwK-"
      },
      "source": [
        "def preprocess(documents):\n",
        "  \"\"\" Preprocesses the corpus.\n",
        "  \n",
        "  Args:\n",
        "    documents (list[str]):\n",
        "      A list of sentences in the corpus.\n",
        "  Returns:\n",
        "    cleaned_documents (list[str]):\n",
        "      A list of cleaned sentences in the corpus.\n",
        "  \"\"\"\n",
        "  cleaned_documents = []\n",
        "  punc = '''!()-[]{};:'\"\\,<>./?@#$%^&*_~”'''\n",
        "  for doc in documents:\n",
        "    # Tokenizes the sentence\n",
        "    sents = sent_tokenize(doc)\n",
        "    for sent in sents:\n",
        "      #pdb.set_trace() # delete this line for the final version\n",
        "      # Removes the punctuations, hint: recursively remove in character level\n",
        "      for c in punc: \n",
        "        sent=sent.replace(c,\"\") \n",
        "      # Lowers the case,  \n",
        "      #[TODO]\n",
        "      for i in range(len(sent)):\n",
        "        sent[i].lower() \n",
        "      cleaned_documents.append(sent)\n",
        "\n",
        "  #print(cleaned_documents[:5])\n",
        "  return cleaned_documents"
      ],
      "execution_count": null,
      "outputs": []
    },
    {
      "cell_type": "code",
      "metadata": {
        "id": "WPwqlNgtJwVu"
      },
      "source": [
        "# Compute word frequency\n",
        "def get_vocab(documents):\n",
        "  \"\"\" Gets the vocabulary from the corpus.\n",
        "  \n",
        "  Args:\n",
        "    documents (list[str]):\n",
        "      A list of sentences in the corpus\n",
        "  Returns:\n",
        "    vocabulary (collections.Counter)\n",
        "  \"\"\"\n",
        "  vocabulary = Counter()\n",
        "\n",
        "  for doc in tqdm(documents):\n",
        "    tokens = word_tokenize(doc)\n",
        "    vocabulary.update(tokens)\n",
        "\n",
        "  return vocabulary"
      ],
      "execution_count": null,
      "outputs": []
    },
    {
      "cell_type": "markdown",
      "metadata": {
        "id": "d556tVIqJ8Mj"
      },
      "source": [
        "**Executions**\n",
        "1. Show the top-10 common words and their counts before/after preprocessing"
      ]
    },
    {
      "cell_type": "code",
      "metadata": {
        "colab": {
          "base_uri": "https://localhost:8080/"
        },
        "id": "x2yIIYK-KCq_",
        "outputId": "47eff5f3-4c08-4373-b793-b96f524b64e3"
      },
      "source": [
        "# Read data\n",
        "raw_documents = get_corpus()\n",
        "\n",
        "# Build vocabulary\n",
        "vocab = get_vocab(raw_documents).most_common(10)\n",
        "print('\\n Before preprocessing:', vocab)\n",
        "\n",
        "# Build vocabulary after preprocessing\n",
        "documents = preprocess(raw_documents)\n",
        "vocab = get_vocab(documents).most_common(10)\n",
        "print('\\n After preprocesing:', vocab)"
      ],
      "execution_count": null,
      "outputs": [
        {
          "output_type": "stream",
          "text": [
            "100%|██████████| 100000/100000 [00:20<00:00, 4771.88it/s]\n"
          ],
          "name": "stderr"
        },
        {
          "output_type": "stream",
          "text": [
            "\n",
            " Before preprocessing: [('.', 85947), ('the', 49772), (',', 39728), ('to', 34407), ('!', 33580), ('a', 28765), ('is', 26339), ('?', 24057), ('and', 22890), ('of', 22542)]\n"
          ],
          "name": "stdout"
        },
        {
          "output_type": "stream",
          "text": [
            "100%|██████████| 175323/175323 [00:17<00:00, 9749.62it/s]"
          ],
          "name": "stderr"
        },
        {
          "output_type": "stream",
          "text": [
            "\n",
            " After preprocesing: [('the', 49703), ('to', 34389), ('a', 28752), ('is', 25735), ('and', 22789), ('of', 22529), ('you', 21192), ('I', 15291), ('in', 15027), ('that', 14622)]\n"
          ],
          "name": "stdout"
        },
        {
          "output_type": "stream",
          "text": [
            "\n"
          ],
          "name": "stderr"
        }
      ]
    },
    {
      "cell_type": "markdown",
      "metadata": {
        "id": "pAZ_azB9KLkj"
      },
      "source": [
        "**Part 2. N-Gram Model and POS Tagging**\n",
        "\n",
        "1.Build 2-gram / 4-gram model by processed dataset\n",
        "\n",
        "2.Show the top-5 probable next words and their probability after initial token `<s>` by 2-gram model\n",
        "\n",
        "3.Generate a sentence with 2-gram model and find the POS taggings\n",
        "\n",
        "4.Generate a sentence with 4-gram model and find the POS taggings\n",
        "\n",
        "**Functions and Classes**"
      ]
    },
    {
      "cell_type": "code",
      "metadata": {
        "id": "GC7P_pZ-KD6t"
      },
      "source": [
        "class Ngram_model(object):\n",
        "  \"\"\" Ngram model implementation.\n",
        "\n",
        "  Attributes:\n",
        "    n (int):\n",
        "      The number of grams to be considered.\n",
        "    model (dict):\n",
        "      The ngram model.\n",
        "  \"\"\"\n",
        "  def __init__(self, documents, N=2):\n",
        "    self.n = N\n",
        "    self.model = self.get_ngram_model(documents)\n",
        "\n",
        "  def get_ngram_model(self, documents):\n",
        "    N = self.n\n",
        "    ngram_model = dict()\n",
        "    full_grams = list()\n",
        "    grams = list()\n",
        "    #split_words = list()\n",
        "    Word = namedtuple('Word', ['word', 'prob'])\n",
        "    # for each sentence in documents\n",
        "    for doc in documents:\n",
        "      # Tokenizes to words\n",
        "      token = nltk.word_tokenize(doc)\n",
        "      # Append (N-1) start tokens '<s>' and an end token '<\\s>'\n",
        "      if N == 2:\n",
        "        split_words = ['<s>'] + list(token) + ['<\\s>']\n",
        "        # Calculates numerator (construct list with full grams, i.e., N-grams)   計算分子\n",
        "        [full_grams.append(tuple(split_words[i:i+N])) for i in range(len(split_words)-N+1)]\n",
        "        # Calculate denominator (construct list with grams, i.e., (N-1)-grams)   計算分母\n",
        "        [grams.append(tuple(split_words[i:i+N-1])) for i in range(len(split_words)-N+2)]\n",
        "      elif N == 4:\n",
        "        split_words = ['<s>'] + ['<s>'] + ['<s>'] + list(token) + ['<\\s>'] \n",
        "        # Calculates numerator (construct list with full grams, i.e., N-grams)   計算分子\n",
        "        [full_grams.append(tuple(split_words[i:i+N])) for i in range(len(split_words)-N+1)]\n",
        "        # Calculate denominator (construct list with grams, i.e., (N-1)-grams)   計算分母\n",
        "        [grams.append(tuple(split_words[i:i+N-1])) for i in range(len(split_words)-N+2)]\n",
        "    # Count the occurence frequency of each gram\n",
        "    # Take 2-gram model as example:\n",
        "    #   full_grams -> list[('a', 'gram'),('other', 'gram'), ...]\n",
        "    #   grams -> list[('a'), ('other'), ('gram'), ...]\n",
        "    #   full_gram_counter -> dict{('a', 'gram'):frequency_1, ('other','gram'):frequency_2, ...}\n",
        "    #   gram_counter -> dict{('a'):frequency_1, ('gram'):frequency_2, ...}\n",
        "    full_gram_counter = Counter(full_grams)\n",
        "    gram_counter = Counter(grams)\n",
        "\n",
        "    # Build model\n",
        "    # Take 2-gram model as example:\n",
        "    #   { '<s>': [tuple(word='i', prob=0.6), tuple(word='the', prob=0.2), ...],\n",
        "    #   'i': [tuple(word='am', prob=0.7), tuple(word='want', prob=0.1), ...],\n",
        "    #    ... }\n",
        "    for key in full_gram_counter:\n",
        "      word = ''.join(key[:N-1])\n",
        "\n",
        "      if word not in ngram_model:\n",
        "        ngram_model.update({word: set()})\n",
        "\n",
        "      # next_word_prob -> float\n",
        "      next_word_prob = full_gram_counter[key] / gram_counter[key[:N-1]]\n",
        "      w = Word(key[-1], next_word_prob)\n",
        "      ngram_model[word].add(w)\n",
        "\n",
        "    # Sort the result by frequency\n",
        "    for word, ng in ngram_model.items():\n",
        "      ngram_model[word] = sorted(ng, key=lambda x: x.prob, reverse=True)\n",
        "\n",
        "    return ngram_model\n",
        "\n",
        "\n",
        "  def predict_sent(self, text=None, max_len=30):\n",
        "    \"\"\" Predicts a sentence with the ngram model.\n",
        "\n",
        "    Args:\n",
        "      text (string or list[string])\n",
        "    Returns:\n",
        "      A prediction string.\n",
        "    \"\"\"\n",
        "\n",
        "    N = self.n\n",
        "    backup_tokens = ['<s>']*(N-1)\n",
        "    if not text:\n",
        "      tokens = backup_tokens\n",
        "      output = []\n",
        "\n",
        "    elif type(text)==str:\n",
        "      tokens = backup_tokens + text.split(' ')\n",
        "      tokens = tokens[-(N-1):]\n",
        "      if not self.check_existence(tokens):\n",
        "        return \n",
        "      output = tokens\n",
        "\n",
        "    elif type(text) == list:\n",
        "      tokens = backup_tokens + text\n",
        "      tokens = tokens[-(N-1):]\n",
        "      if not self.check_existence(tokens):\n",
        "        return\n",
        "      output = tokens\n",
        "\n",
        "    else:\n",
        "      print('[Error] the input text must be string or list of string')\n",
        "      return\n",
        "\n",
        "    for i in range(max_len):\n",
        "      possible_words = list(self.model[''.join(tokens)])\n",
        "      probs = [word.prob for word in possible_words]\n",
        "      words = [word.word for word in possible_words]\n",
        "      next_word = np.random.choice(words, 1, p=probs)[0]\n",
        "      tokens = tokens[1:] + [next_word]\n",
        "\n",
        "      if next_word == '<\\\\s>':\n",
        "        break\n",
        "\n",
        "      output.append(next_word)\n",
        "    return ' '.join(output)\n",
        "\n",
        "  def predict_next(self, text=None, top=5):\n",
        "    \"\"\" Predicts next word with the ngram model.\n",
        "\n",
        "    Args:\n",
        "      text (string or list[string])\n",
        "\n",
        "    Returns:\n",
        "      possible_next_words (list[namedtuple]):\n",
        "        A list of top few possible next words.\n",
        "    \"\"\"\n",
        "\n",
        "    N = self.n\n",
        "    backup_tokens = ['<s>']*(N-1)\n",
        "    if not text:\n",
        "      tokens = backup_tokens\n",
        "\n",
        "    elif type(text)==str:\n",
        "      tokens = backup_tokens + text.split(' ')\n",
        "      tokens = tokens[-(N-1):]\n",
        "      if not self.check_existence(tokens):\n",
        "        return \n",
        "\n",
        "    elif type(text) == list:\n",
        "      tokens = backup_tokens + text\n",
        "      tokens = tokens[-(N-1):]\n",
        "      if not self.check_existence(tokens):\n",
        "        return\n",
        "    else:\n",
        "      print('[Error] the input text must be string or list of string')\n",
        "\n",
        "    possible_next_words = self.model[''.join(tokens)][:top]\n",
        "    possible_next_words = [(word.word, word.prob) for word in possible_next_words]\n",
        "\n",
        "    return possible_next_words\n",
        "\n",
        "  def check_existence(self, tokens):\n",
        "    if not ''.join(tokens) in self.model.keys():\n",
        "      print('[Error] the input text {} not in the vocabulary'.format(tokens))\n",
        "      return False\n",
        "    else:\n",
        "      return True"
      ],
      "execution_count": null,
      "outputs": []
    },
    {
      "cell_type": "markdown",
      "metadata": {
        "id": "VGMOq57eLKQc"
      },
      "source": [
        "**Executions**\n",
        "1. Build 2-gram/4-gram model by processed dataset"
      ]
    },
    {
      "cell_type": "code",
      "metadata": {
        "id": "3bXMA1xbLEip"
      },
      "source": [
        "twogram = Ngram_model(documents, N=2)\n",
        "fourgram = Ngram_model(documents, N=4)"
      ],
      "execution_count": null,
      "outputs": []
    },
    {
      "cell_type": "markdown",
      "metadata": {
        "id": "I78LIy_2LQ0J"
      },
      "source": [
        "2. Show the top-5 probable next words and their probability after initial token `<s>` by 2-gram model"
      ]
    },
    {
      "cell_type": "code",
      "metadata": {
        "colab": {
          "base_uri": "https://localhost:8080/"
        },
        "id": "mFS98nMeLYUK",
        "outputId": "77fbf267-f596-4071-dc93-e2678ab5d5e4"
      },
      "source": [
        "output = twogram.predict_next(text='<s>', top=5)\n",
        "print('Next word predictions of two gram model:', output)"
      ],
      "execution_count": null,
      "outputs": [
        {
          "output_type": "stream",
          "text": [
            "Next word predictions of two gram model: [('I', 0.05075774427770458), ('<\\\\s>', 0.031182446113744346), ('The', 0.029613912607016762), ('You', 0.029477022410065994), ('They', 0.018040987206470342)]\n"
          ],
          "name": "stdout"
        }
      ]
    },
    {
      "cell_type": "markdown",
      "metadata": {
        "id": "LVP0uf3QLcWE"
      },
      "source": [
        "3. Generate a sentence with 2-gram model and find the POS taggings"
      ]
    },
    {
      "cell_type": "code",
      "metadata": {
        "colab": {
          "base_uri": "https://localhost:8080/"
        },
        "id": "pbZl_P9VLgtf",
        "outputId": "a4c512ea-111b-4b06-9c7f-d1cfcfa33e6e"
      },
      "source": [
        "output = twogram.predict_sent(max_len=30)\n",
        "print('Generation results of two gram model:', output)\n",
        "nltk.pos_tag(word_tokenize(output))"
      ],
      "execution_count": null,
      "outputs": [
        {
          "output_type": "stream",
          "text": [
            "Generation results of two gram model: Your DigiAssets DAXUPByJRmEPi9zDCFJoErtQt8NiJa27Li\n"
          ],
          "name": "stdout"
        },
        {
          "output_type": "execute_result",
          "data": {
            "text/plain": [
              "[('Your', 'PRP$'),\n",
              " ('DigiAssets', 'NNS'),\n",
              " ('DAXUPByJRmEPi9zDCFJoErtQt8NiJa27Li', 'VBP')]"
            ]
          },
          "metadata": {
            "tags": []
          },
          "execution_count": 29
        }
      ]
    },
    {
      "cell_type": "markdown",
      "metadata": {
        "id": "Qx-JFS5GLkkW"
      },
      "source": [
        "4. Generate a sentence with 4-gram model and find the POS taggings"
      ]
    },
    {
      "cell_type": "code",
      "metadata": {
        "colab": {
          "base_uri": "https://localhost:8080/"
        },
        "id": "U_2SWxxbLpEr",
        "outputId": "373c544e-2538-4585-b044-0958292b0862"
      },
      "source": [
        "output = fourgram.predict_sent(max_len=30)\n",
        "print('Generation results of four gram model: ', output)\n",
        "nltk.pos_tag(word_tokenize(output))"
      ],
      "execution_count": null,
      "outputs": [
        {
          "output_type": "stream",
          "text": [
            "Generation results of four gram model:  You nailed it Joy\n"
          ],
          "name": "stdout"
        },
        {
          "output_type": "execute_result",
          "data": {
            "text/plain": [
              "[('You', 'PRP'), ('nailed', 'VBD'), ('it', 'PRP'), ('Joy', 'NNP')]"
            ]
          },
          "metadata": {
            "tags": []
          },
          "execution_count": 30
        }
      ]
    }
  ]
}